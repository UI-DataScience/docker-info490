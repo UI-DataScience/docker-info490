{
 "cells": [
  {
   "cell_type": "markdown",
   "metadata": {},
   "source": [
    "We have to start the nodes manually due to a bug."
   ]
  },
  {
   "cell_type": "code",
   "execution_count": 1,
   "metadata": {
    "collapsed": false
   },
   "outputs": [
    {
     "name": "stdout",
     "output_type": "stream",
     "text": [
      "starting datanode, logging to /usr/local/hadoop/logs/hadoop--datanode-3a2974b40e4d.out\r\n"
     ]
    }
   ],
   "source": [
    "!$HADOOP_PREFIX/sbin/hadoop-daemon.sh start datanode"
   ]
  },
  {
   "cell_type": "code",
   "execution_count": 2,
   "metadata": {
    "collapsed": false
   },
   "outputs": [
    {
     "name": "stdout",
     "output_type": "stream",
     "text": [
      "starting namenode, logging to /usr/local/hadoop/logs/hadoop--namenode-3a2974b40e4d.out\r\n"
     ]
    }
   ],
   "source": [
    "!$HADOOP_PREFIX/sbin/hadoop-daemon.sh start namenode"
   ]
  },
  {
   "cell_type": "markdown",
   "metadata": {},
   "source": [
    "Create a user directory in the HDFS."
   ]
  },
  {
   "cell_type": "code",
   "execution_count": 3,
   "metadata": {
    "collapsed": true
   },
   "outputs": [],
   "source": [
    "!$HADOOP_PREFIX/bin/hdfs dfs -mkdir -p /user/data_scientist"
   ]
  },
  {
   "cell_type": "code",
   "execution_count": 4,
   "metadata": {
    "collapsed": true
   },
   "outputs": [],
   "source": [
    "!$HADOOP_PREFIX/bin/hdfs dfs -put $HADOOP_PREFIX/etc/hadoop/ input"
   ]
  },
  {
   "cell_type": "markdown",
   "metadata": {},
   "source": [
    "Let's run an example to test this."
   ]
  },
  {
   "cell_type": "code",
   "execution_count": 11,
   "metadata": {
    "collapsed": false
   },
   "outputs": [
    {
     "name": "stdout",
     "output_type": "stream",
     "text": [
      "16/03/29 08:21:13 INFO client.RMProxy: Connecting to ResourceManager at /0.0.0.0:8032\n",
      "16/03/29 08:21:13 WARN mapreduce.JobSubmitter: No job jar file set.  User classes may not be found. See Job or Job#setJar(String).\n",
      "16/03/29 08:21:13 INFO input.FileInputFormat: Total input paths to process : 31\n",
      "16/03/29 08:21:14 INFO mapreduce.JobSubmitter: number of splits:31\n",
      "16/03/29 08:21:14 INFO mapreduce.JobSubmitter: Submitting tokens for job: job_1459239372008_0003\n",
      "16/03/29 08:21:14 INFO mapred.YARNRunner: Job jar is not present. Not adding any jar to the list of resources.\n",
      "16/03/29 08:21:14 INFO impl.YarnClientImpl: Submitted application application_1459239372008_0003\n",
      "16/03/29 08:21:14 INFO mapreduce.Job: The url to track the job: http://3a2974b40e4d:8088/proxy/application_1459239372008_0003/\n",
      "16/03/29 08:21:14 INFO mapreduce.Job: Running job: job_1459239372008_0003\n",
      "16/03/29 08:21:19 INFO mapreduce.Job: Job job_1459239372008_0003 running in uber mode : false\n",
      "16/03/29 08:21:19 INFO mapreduce.Job:  map 0% reduce 0%\n",
      "16/03/29 08:21:35 INFO mapreduce.Job:  map 19% reduce 0%\n",
      "16/03/29 08:21:44 INFO mapreduce.Job:  map 23% reduce 0%\n",
      "16/03/29 08:21:47 INFO mapreduce.Job:  map 26% reduce 0%\n",
      "16/03/29 08:21:50 INFO mapreduce.Job:  map 35% reduce 0%\n",
      "16/03/29 08:21:51 INFO mapreduce.Job:  map 39% reduce 0%\n",
      "16/03/29 08:22:00 INFO mapreduce.Job:  map 42% reduce 0%\n",
      "16/03/29 08:22:01 INFO mapreduce.Job:  map 45% reduce 0%\n",
      "16/03/29 08:22:03 INFO mapreduce.Job:  map 45% reduce 15%\n",
      "16/03/29 08:22:04 INFO mapreduce.Job:  map 55% reduce 15%\n",
      "16/03/29 08:22:06 INFO mapreduce.Job:  map 55% reduce 18%\n",
      "16/03/29 08:22:12 INFO mapreduce.Job:  map 58% reduce 18%\n",
      "16/03/29 08:22:15 INFO mapreduce.Job:  map 68% reduce 19%\n",
      "16/03/29 08:22:16 INFO mapreduce.Job:  map 71% reduce 19%\n",
      "16/03/29 08:22:18 INFO mapreduce.Job:  map 71% reduce 24%\n",
      "16/03/29 08:22:22 INFO mapreduce.Job:  map 74% reduce 24%\n",
      "16/03/29 08:22:24 INFO mapreduce.Job:  map 74% reduce 25%\n",
      "16/03/29 08:22:26 INFO mapreduce.Job:  map 81% reduce 25%\n",
      "16/03/29 08:22:27 INFO mapreduce.Job:  map 87% reduce 27%\n",
      "16/03/29 08:22:30 INFO mapreduce.Job:  map 87% reduce 29%\n",
      "16/03/29 08:22:33 INFO mapreduce.Job:  map 90% reduce 30%\n",
      "16/03/29 08:22:35 INFO mapreduce.Job:  map 100% reduce 30%\n",
      "16/03/29 08:22:36 INFO mapreduce.Job:  map 100% reduce 100%\n",
      "16/03/29 08:22:37 INFO mapreduce.Job: Job job_1459239372008_0003 completed successfully\n",
      "16/03/29 08:22:37 INFO mapreduce.Job: Counters: 49\n",
      "\tFile System Counters\n",
      "\t\tFILE: Number of bytes read=406\n",
      "\t\tFILE: Number of bytes written=3413630\n",
      "\t\tFILE: Number of read operations=0\n",
      "\t\tFILE: Number of large read operations=0\n",
      "\t\tFILE: Number of write operations=0\n",
      "\t\tHDFS: Number of bytes read=80901\n",
      "\t\tHDFS: Number of bytes written=510\n",
      "\t\tHDFS: Number of read operations=96\n",
      "\t\tHDFS: Number of large read operations=0\n",
      "\t\tHDFS: Number of write operations=2\n",
      "\tJob Counters \n",
      "\t\tLaunched map tasks=31\n",
      "\t\tLaunched reduce tasks=1\n",
      "\t\tData-local map tasks=31\n",
      "\t\tTotal time spent by all maps in occupied slots (ms)=345679\n",
      "\t\tTotal time spent by all reduces in occupied slots (ms)=48861\n",
      "\t\tTotal time spent by all map tasks (ms)=345679\n",
      "\t\tTotal time spent by all reduce tasks (ms)=48861\n",
      "\t\tTotal vcore-seconds taken by all map tasks=345679\n",
      "\t\tTotal vcore-seconds taken by all reduce tasks=48861\n",
      "\t\tTotal megabyte-seconds taken by all map tasks=353975296\n",
      "\t\tTotal megabyte-seconds taken by all reduce tasks=50033664\n",
      "\tMap-Reduce Framework\n",
      "\t\tMap input records=2065\n",
      "\t\tMap output records=26\n",
      "\t\tMap output bytes=647\n",
      "\t\tMap output materialized bytes=586\n",
      "\t\tInput split bytes=4122\n",
      "\t\tCombine input records=26\n",
      "\t\tCombine output records=15\n",
      "\t\tReduce input groups=13\n",
      "\t\tReduce shuffle bytes=586\n",
      "\t\tReduce input records=15\n",
      "\t\tReduce output records=13\n",
      "\t\tSpilled Records=30\n",
      "\t\tShuffled Maps =31\n",
      "\t\tFailed Shuffles=0\n",
      "\t\tMerged Map outputs=31\n",
      "\t\tGC time elapsed (ms)=2078\n",
      "\t\tCPU time spent (ms)=9950\n",
      "\t\tPhysical memory (bytes) snapshot=7828852736\n",
      "\t\tVirtual memory (bytes) snapshot=23684579328\n",
      "\t\tTotal committed heap usage (bytes)=5719982080\n",
      "\tShuffle Errors\n",
      "\t\tBAD_ID=0\n",
      "\t\tCONNECTION=0\n",
      "\t\tIO_ERROR=0\n",
      "\t\tWRONG_LENGTH=0\n",
      "\t\tWRONG_MAP=0\n",
      "\t\tWRONG_REDUCE=0\n",
      "\tFile Input Format Counters \n",
      "\t\tBytes Read=76779\n",
      "\tFile Output Format Counters \n",
      "\t\tBytes Written=510\n",
      "16/03/29 08:22:37 INFO client.RMProxy: Connecting to ResourceManager at /0.0.0.0:8032\n",
      "org.apache.hadoop.mapred.FileAlreadyExistsException: Output directory hdfs://3a2974b40e4d:9000/user/data_scientist/output already exists\n",
      "\tat org.apache.hadoop.mapreduce.lib.output.FileOutputFormat.checkOutputSpecs(FileOutputFormat.java:146)\n",
      "\tat org.apache.hadoop.mapreduce.JobSubmitter.checkSpecs(JobSubmitter.java:562)\n",
      "\tat org.apache.hadoop.mapreduce.JobSubmitter.submitJobInternal(JobSubmitter.java:432)\n",
      "\tat org.apache.hadoop.mapreduce.Job$10.run(Job.java:1296)\n",
      "\tat org.apache.hadoop.mapreduce.Job$10.run(Job.java:1293)\n",
      "\tat java.security.AccessController.doPrivileged(Native Method)\n",
      "\tat javax.security.auth.Subject.doAs(Subject.java:415)\n",
      "\tat org.apache.hadoop.security.UserGroupInformation.doAs(UserGroupInformation.java:1628)\n",
      "\tat org.apache.hadoop.mapreduce.Job.submit(Job.java:1293)\n",
      "\tat org.apache.hadoop.mapreduce.Job.waitForCompletion(Job.java:1314)\n",
      "\tat org.apache.hadoop.examples.Grep.run(Grep.java:92)\n",
      "\tat org.apache.hadoop.util.ToolRunner.run(ToolRunner.java:70)\n",
      "\tat org.apache.hadoop.examples.Grep.main(Grep.java:101)\n",
      "\tat sun.reflect.NativeMethodAccessorImpl.invoke0(Native Method)\n",
      "\tat sun.reflect.NativeMethodAccessorImpl.invoke(NativeMethodAccessorImpl.java:57)\n",
      "\tat sun.reflect.DelegatingMethodAccessorImpl.invoke(DelegatingMethodAccessorImpl.java:43)\n",
      "\tat java.lang.reflect.Method.invoke(Method.java:606)\n",
      "\tat org.apache.hadoop.util.ProgramDriver$ProgramDescription.invoke(ProgramDriver.java:71)\n",
      "\tat org.apache.hadoop.util.ProgramDriver.run(ProgramDriver.java:144)\n",
      "\tat org.apache.hadoop.examples.ExampleDriver.main(ExampleDriver.java:74)\n",
      "\tat sun.reflect.NativeMethodAccessorImpl.invoke0(Native Method)\n",
      "\tat sun.reflect.NativeMethodAccessorImpl.invoke(NativeMethodAccessorImpl.java:57)\n",
      "\tat sun.reflect.DelegatingMethodAccessorImpl.invoke(DelegatingMethodAccessorImpl.java:43)\n",
      "\tat java.lang.reflect.Method.invoke(Method.java:606)\n",
      "\tat org.apache.hadoop.util.RunJar.run(RunJar.java:221)\n",
      "\tat org.apache.hadoop.util.RunJar.main(RunJar.java:136)\n"
     ]
    }
   ],
   "source": [
    "!$HADOOP_PREFIX/bin/hadoop \\\n",
    "    jar $HADOOP_PREFIX/share/hadoop/mapreduce/hadoop-mapreduce-examples-2.6.0.jar \\\n",
    "    grep input output 'dfs[a-z.]+'"
   ]
  },
  {
   "cell_type": "code",
   "execution_count": 12,
   "metadata": {
    "collapsed": false
   },
   "outputs": [
    {
     "name": "stdout",
     "output_type": "stream",
     "text": [
      "6\tdfs.audit.logger\r\n",
      "4\tdfs.class\r\n",
      "3\tdfs.server.namenode.\r\n",
      "2\tdfs.audit.log.maxbackupindex\r\n",
      "2\tdfs.period\r\n",
      "2\tdfs.audit.log.maxfilesize\r\n",
      "1\tdfsmetrics.log\r\n",
      "1\tdfsadmin\r\n",
      "1\tdfs.servers\r\n",
      "1\tdfs.replication\r\n",
      "1\tdfs.namenode.rpc\r\n",
      "1\tdfs.file\r\n",
      "1\tdfs.namenode.servicerpc\r\n"
     ]
    }
   ],
   "source": [
    "!$HADOOP_PREFIX/bin/hdfs dfs -cat output/*"
   ]
  },
  {
   "cell_type": "code",
   "execution_count": null,
   "metadata": {
    "collapsed": true
   },
   "outputs": [],
   "source": []
  }
 ],
 "metadata": {
  "kernelspec": {
   "display_name": "Python 3",
   "language": "python",
   "name": "python3"
  },
  "language_info": {
   "codemirror_mode": {
    "name": "ipython",
    "version": 3
   },
   "file_extension": ".py",
   "mimetype": "text/x-python",
   "name": "python",
   "nbconvert_exporter": "python",
   "pygments_lexer": "ipython3",
   "version": "3.5.1"
  }
 },
 "nbformat": 4,
 "nbformat_minor": 0
}
